{
 "cells": [
  {
   "cell_type": "code",
   "execution_count": 1,
   "metadata": {},
   "outputs": [
    {
     "ename": "ModuleNotFoundError",
     "evalue": "No module named 'cv2'",
     "output_type": "error",
     "traceback": [
      "\u001b[1;31m---------------------------------------------------------------------------\u001b[0m",
      "\u001b[1;31mModuleNotFoundError\u001b[0m                       Traceback (most recent call last)",
      "\u001b[1;32m~\\AppData\\Local\\Temp/ipykernel_3380/3440910120.py\u001b[0m in \u001b[0;36m<module>\u001b[1;34m\u001b[0m\n\u001b[1;32m----> 1\u001b[1;33m \u001b[1;32mimport\u001b[0m \u001b[0mcv2\u001b[0m\u001b[1;33m\u001b[0m\u001b[1;33m\u001b[0m\u001b[0m\n\u001b[0m\u001b[0;32m      2\u001b[0m \u001b[1;32mimport\u001b[0m \u001b[0mos\u001b[0m\u001b[1;33m\u001b[0m\u001b[1;33m\u001b[0m\u001b[0m\n\u001b[0;32m      3\u001b[0m \u001b[1;32mimport\u001b[0m \u001b[0mnumpy\u001b[0m \u001b[1;32mas\u001b[0m \u001b[0mnp\u001b[0m\u001b[1;33m\u001b[0m\u001b[1;33m\u001b[0m\u001b[0m\n\u001b[0;32m      4\u001b[0m \u001b[1;32mimport\u001b[0m \u001b[0mrandom\u001b[0m\u001b[1;33m\u001b[0m\u001b[1;33m\u001b[0m\u001b[0m\n\u001b[0;32m      5\u001b[0m \u001b[1;32mimport\u001b[0m \u001b[0mxml\u001b[0m\u001b[1;33m.\u001b[0m\u001b[0metree\u001b[0m\u001b[1;33m.\u001b[0m\u001b[0mElementTree\u001b[0m \u001b[1;32mas\u001b[0m \u001b[0mET\u001b[0m\u001b[1;33m\u001b[0m\u001b[1;33m\u001b[0m\u001b[0m\n",
      "\u001b[1;31mModuleNotFoundError\u001b[0m: No module named 'cv2'"
     ]
    }
   ],
   "source": [
    "import cv2\n",
    "import os\n",
    "import numpy as np\n",
    "import random\n",
    "import xml.etree.ElementTree as ET\n",
    "from sklearn.preprocessing import OneHotEncoder\n",
    "from tensorflow.keras.utils import to_categorical\n",
    "\n",
    "# Set the paths to the folders containing the images and annotated files\n",
    "img_folder = r'C:/Users/DELL 7270/Desktop/labelImage-master/Images'\n",
    "annot_folder = r'C:/Users/DELL 7270/Desktop/labelImage-master/annotations'\n",
    "\n",
    "# Define the target size for resizing the images\n",
    "target_size = (32, 32)\n",
    "\n",
    "# Define the data augmentation parameters\n",
    "rotation_range = 15 # In degrees\n",
    "scale_range = (0.8, 1.2)\n",
    "translation_range = (0.1, 0.1)\n",
    "\n",
    "# Define the feature extraction method\n",
    "feature_method = lambda img: cv2.Canny(img, threshold1=100, threshold2=200)\n",
    "\n",
    "# Define the label encoder\n",
    "one_hot_encoder = OneHotEncoder()\n",
    "\n",
    "# Define a function for data augmentation\n",
    "def augment_data(img, bboxes):\n",
    "    # Randomly apply rotation, scaling, and translation to the image and bounding boxes\n",
    "    angle = random.uniform(-rotation_range, rotation_range)\n",
    "    scale = random.uniform(scale_range[0], scale_range[1])\n",
    "    tx = random.uniform(-translation_range[0], translation_range[0])\n",
    "    ty = random.uniform(-translation_range[1], translation_range[1])\n",
    "\n",
    "    # Compute the rotation matrix\n",
    "    center = (img.shape[1] / 2, img.shape[0] / 2)\n",
    "    M = cv2.getRotationMatrix2D(center, angle, scale)\n",
    "\n",
    "    # Apply the rotation, scaling, and translation to the image\n",
    "    img = cv2.warpAffine(img, M, (img.shape[1], img.shape[0]), borderMode=cv2.BORDER_REPLICATE)\n",
    "    \n",
    "    # Apply the rotation, scaling, and translation to the bounding boxes\n",
    "    new_bboxes = []\n",
    "    for bbox in bboxes:\n",
    "        xmin, ymin, xmax, ymax, label = bbox\n",
    "        pts = np.float32([[xmin, ymin], [xmax, ymin], [xmax, ymax], [xmin, ymax]]).reshape(-1, 1, 2)\n",
    "        new_pts = cv2.transform(pts, M)\n",
    "        new_xmin = int(min(new_pts[:, :, 0]))\n",
    "        new_ymin = int(min(new_pts[:, :, 1]))\n",
    "        new_xmax = int(max(new_pts[:, :, 0]))\n",
    "        new_ymax = int(max(new_pts[:, :, 1]))\n",
    "        new_bboxes.append((new_xmin, new_ymin, new_xmax, new_ymax, label))\n",
    "\n",
    "    return img, new_bboxes\n",
    "\n",
    "# Initialize the X and y lists for storing the features and labels, respectively\n",
    "X = []\n",
    "y = []\n",
    "\n",
    "# Loop through the annotated files\n",
    "for annot_file in os.listdir(annot_folder):\n",
    "    # Get the name of the image file associated with the annotation file\n",
    "    img_file = os.path.splitext(annot_file)[0] + '.jpg'\n",
    "    img_path = os.path.join(img_folder, img_file)\n",
    "\n",
    "    # Load the image and resize it to the target size\n",
    "    img = cv2.imread(img_path)\n",
    "    img = cv2.resize(img, target_size)\n",
    "\n",
    "    # Load the annotation file and extract the bounding boxes and labels\n",
    "    tree = ET.parse(os.path.join(annot_folder, annot_file))\n",
    "    root = tree.getroot()\n",
    "    bboxes = []\n",
    "    for obj in root.findall('object'):\n",
    "        label = obj.find('name').text\n",
    "        bbox = obj.find('bndbox')\n",
    "        xmin = int(bbox.find('xmin').text)\n",
    "\n"
   ]
  },
  {
   "cell_type": "code",
   "execution_count": 5,
   "metadata": {},
   "outputs": [
    {
     "name": "stdout",
     "output_type": "stream",
     "text": [
      "Package                           Version\n",
      "--------------------------------- -----------\n",
      "absl-py                           1.4.0\n",
      "anyio                             3.6.2\n",
      "argon2-cffi                       21.3.0\n",
      "argon2-cffi-bindings              21.2.0\n",
      "arrow                             1.2.3\n",
      "asttokens                         2.2.1\n",
      "astunparse                        1.6.3\n",
      "attrs                             22.2.0\n",
      "Babel                             2.11.0\n",
      "backcall                          0.2.0\n",
      "beautifulsoup4                    4.11.1\n",
      "bleach                            6.0.0\n",
      "bokeh                             3.0.3\n",
      "cachetools                        5.3.0\n",
      "certifi                           2022.12.7\n",
      "cffi                              1.15.1\n",
      "charset-normalizer                3.0.1\n",
      "colorama                          0.4.6\n",
      "comm                              0.1.2\n",
      "contourpy                         1.0.7\n",
      "cycler                            0.11.0\n",
      "debugpy                           1.6.6\n",
      "decorator                         5.1.1\n",
      "defusedxml                        0.7.1\n",
      "distlib                           0.3.6\n",
      "et-xmlfile                        1.1.0\n",
      "executing                         1.2.0\n",
      "fastjsonschema                    2.16.2\n",
      "filelock                          3.9.0\n",
      "flatbuffers                       23.3.3\n",
      "fonttools                         4.38.0\n",
      "fqdn                              1.5.1\n",
      "gast                              0.4.0\n",
      "google-auth                       2.16.2\n",
      "google-auth-oauthlib              0.4.6\n",
      "google-pasta                      0.2.0\n",
      "graphviz                          0.20.1\n",
      "greenlet                          2.0.2\n",
      "grpcio                            1.51.3\n",
      "h5py                              3.8.0\n",
      "idna                              3.4\n",
      "ipykernel                         6.20.2\n",
      "ipython                           8.9.0\n",
      "ipython-genutils                  0.2.0\n",
      "isoduration                       20.11.0\n",
      "jax                               0.4.5\n",
      "jedi                              0.18.2\n",
      "Jinja2                            3.1.2\n",
      "joblib                            1.2.0\n",
      "json5                             0.9.11\n",
      "jsonpointer                       2.3\n",
      "jsonschema                        4.17.3\n",
      "jupyter_client                    8.0.1\n",
      "jupyter-contrib-core              0.4.2\n",
      "jupyter-contrib-nbextensions      0.7.0\n",
      "jupyter_core                      5.1.5\n",
      "jupyter-events                    0.6.3\n",
      "jupyter-highlight-selected-word   0.2.0\n",
      "jupyter-nbextensions-configurator 0.6.1\n",
      "jupyter_server                    2.1.0\n",
      "jupyter_server_terminals          0.4.4\n",
      "jupyter-tabnine                   1.2.3\n",
      "jupyterlab                        3.5.3\n",
      "jupyterlab-pygments               0.2.2\n",
      "jupyterlab_server                 2.19.0\n",
      "jupyterlab-simpledark             1.0.0\n",
      "jupyterlab-tabnine                0.0.24\n",
      "jupyterlab-theme-solarized-dark   2.1.0\n",
      "keras                             2.12.0rc1\n",
      "kiwisolver                        1.4.4\n",
      "labelImg                          1.8.6\n",
      "libclang                          15.0.6.1\n",
      "lxml                              4.9.2\n",
      "Markdown                          3.4.1\n",
      "MarkupSafe                        2.1.2\n",
      "matplotlib                        3.6.3\n",
      "matplotlib-inline                 0.1.6\n",
      "mistune                           2.0.4\n",
      "mysql-connector-python            8.0.32\n",
      "nbclassic                         0.5.1\n",
      "nbclient                          0.7.2\n",
      "nbconvert                         7.2.9\n",
      "nbformat                          5.7.3\n",
      "nest-asyncio                      1.5.6\n",
      "notebook                          6.5.2\n",
      "notebook_shim                     0.2.2\n",
      "numpy                             1.23.5\n",
      "oauthlib                          3.2.2\n",
      "opencv-python                     4.7.0.72\n",
      "openpyxl                          3.0.10\n",
      "opt-einsum                        3.3.0\n",
      "packaging                         23.0\n",
      "pandas                            1.5.3\n",
      "pandocfilters                     1.5.0\n",
      "parso                             0.8.3\n",
      "pickleshare                       0.7.5\n",
      "Pillow                            9.4.0\n",
      "pip                               23.0.1\n",
      "platformdirs                      2.6.2\n",
      "plotly                            5.13.0\n",
      "prometheus-client                 0.16.0\n",
      "prompt-toolkit                    3.0.36\n",
      "protobuf                          3.20.3\n",
      "psutil                            5.9.4\n",
      "pure-eval                         0.2.2\n",
      "pyasn1                            0.4.8\n",
      "pyasn1-modules                    0.2.8\n",
      "pycparser                         2.21\n",
      "Pygments                          2.14.0\n",
      "pyparsing                         3.0.9\n",
      "PyQt5                             5.15.9\n",
      "PyQt5-Qt5                         5.15.2\n",
      "PyQt5-sip                         12.11.1\n",
      "pyrsistent                        0.19.3\n",
      "python-dateutil                   2.8.2\n",
      "python-json-logger                2.0.4\n",
      "pytz                              2022.7.1\n",
      "pywin32                           305\n",
      "pywinpty                          2.0.10\n",
      "PyYAML                            6.0\n",
      "pyzmq                             25.0.0\n",
      "requests                          2.28.2\n",
      "requests-oauthlib                 1.3.1\n",
      "rfc3339-validator                 0.1.4\n",
      "rfc3986-validator                 0.1.1\n",
      "rsa                               4.9\n",
      "scikit-learn                      1.2.1\n",
      "scipy                             1.10.0\n",
      "seaborn                           0.12.2\n",
      "Send2Trash                        1.8.0\n",
      "setuptools                        65.5.0\n",
      "six                               1.16.0\n",
      "sniffio                           1.3.0\n",
      "soupsieve                         2.3.2.post1\n",
      "SQLAlchemy                        2.0.4\n",
      "stack-data                        0.6.2\n",
      "tenacity                          8.1.0\n",
      "tensorboard                       2.12.0\n",
      "tensorboard-data-server           0.7.0\n",
      "tensorboard-plugin-wit            1.8.1\n",
      "tensorflow                        2.12.0rc0\n",
      "tensorflow-estimator              2.12.0rc0\n",
      "tensorflow-intel                  2.12.0rc0\n",
      "tensorflow-io-gcs-filesystem      0.31.0\n",
      "termcolor                         2.2.0\n",
      "terminado                         0.17.1\n",
      "threadpoolctl                     3.1.0\n",
      "tinycss2                          1.2.1\n",
      "tomli                             2.0.1\n",
      "tornado                           6.2\n",
      "traitlets                         5.8.1\n",
      "typing_extensions                 4.5.0\n",
      "uri-template                      1.2.0\n",
      "urllib3                           1.26.14\n",
      "virtualenv                        20.19.0\n",
      "virtualenvwrapper-win             1.2.7\n",
      "wcwidth                           0.2.6\n",
      "webcolors                         1.12\n",
      "webencodings                      0.5.1\n",
      "websocket-client                  1.5.0\n",
      "Werkzeug                          2.2.3\n",
      "wheel                             0.38.4\n",
      "wrapt                             1.15.0\n",
      "xyzservices                       2022.9.0\n"
     ]
    }
   ],
   "source": [
    "!pip list"
   ]
  },
  {
   "cell_type": "code",
   "execution_count": 1,
   "metadata": {},
   "outputs": [],
   "source": [
    "import os\n",
    "import zipfile\n",
    "import random\n",
    "import tensorflow as tf\n",
    "from tensorflow.keras.optimizers import RMSprop\n",
    "from tensorflow.keras.preprocessing.image import ImageDataGenerator\n",
    "from shutil import copyfile"
   ]
  },
  {
   "cell_type": "code",
   "execution_count": 3,
   "metadata": {},
   "outputs": [
    {
     "ename": "FileNotFoundError",
     "evalue": "[Errno 2] No such file or directory: '/tmp/cats-and-dogs.zip'",
     "output_type": "error",
     "traceback": [
      "\u001b[1;31m---------------------------------------------------------------------------\u001b[0m",
      "\u001b[1;31mFileNotFoundError\u001b[0m                         Traceback (most recent call last)",
      "Cell \u001b[1;32mIn[3], line 8\u001b[0m\n\u001b[0;32m      6\u001b[0m url \u001b[39m=\u001b[39m \u001b[39m\"\u001b[39m\u001b[39mhttps://download.microsoft.com/download/3/E/1/3E1C3F21-ECDB-4869-8368-6DEBA77B919F/kagglecatsanddogs_3367a.zip\u001b[39m\u001b[39m\"\u001b[39m\n\u001b[0;32m      7\u001b[0m response \u001b[39m=\u001b[39m requests\u001b[39m.\u001b[39mget(url)\n\u001b[1;32m----> 8\u001b[0m \u001b[39mwith\u001b[39;00m \u001b[39mopen\u001b[39;49m(\u001b[39m\"\u001b[39;49m\u001b[39m/tmp/cats-and-dogs.zip\u001b[39;49m\u001b[39m\"\u001b[39;49m, \u001b[39m\"\u001b[39;49m\u001b[39mwb\u001b[39;49m\u001b[39m\"\u001b[39;49m) \u001b[39mas\u001b[39;00m f:\n\u001b[0;32m      9\u001b[0m     f\u001b[39m.\u001b[39mwrite(response\u001b[39m.\u001b[39mcontent)\n\u001b[0;32m     11\u001b[0m \u001b[39m# Extract the ZIP file\u001b[39;00m\n",
      "File \u001b[1;32mc:\\Users\\DELL 7270\\AppData\\Local\\Programs\\Python\\Python311\\Lib\\site-packages\\IPython\\core\\interactiveshell.py:282\u001b[0m, in \u001b[0;36m_modified_open\u001b[1;34m(file, *args, **kwargs)\u001b[0m\n\u001b[0;32m    275\u001b[0m \u001b[39mif\u001b[39;00m file \u001b[39min\u001b[39;00m {\u001b[39m0\u001b[39m, \u001b[39m1\u001b[39m, \u001b[39m2\u001b[39m}:\n\u001b[0;32m    276\u001b[0m     \u001b[39mraise\u001b[39;00m \u001b[39mValueError\u001b[39;00m(\n\u001b[0;32m    277\u001b[0m         \u001b[39mf\u001b[39m\u001b[39m\"\u001b[39m\u001b[39mIPython won\u001b[39m\u001b[39m'\u001b[39m\u001b[39mt let you open fd=\u001b[39m\u001b[39m{\u001b[39;00mfile\u001b[39m}\u001b[39;00m\u001b[39m by default \u001b[39m\u001b[39m\"\u001b[39m\n\u001b[0;32m    278\u001b[0m         \u001b[39m\"\u001b[39m\u001b[39mas it is likely to crash IPython. If you know what you are doing, \u001b[39m\u001b[39m\"\u001b[39m\n\u001b[0;32m    279\u001b[0m         \u001b[39m\"\u001b[39m\u001b[39myou can use builtins\u001b[39m\u001b[39m'\u001b[39m\u001b[39m open.\u001b[39m\u001b[39m\"\u001b[39m\n\u001b[0;32m    280\u001b[0m     )\n\u001b[1;32m--> 282\u001b[0m \u001b[39mreturn\u001b[39;00m io_open(file, \u001b[39m*\u001b[39;49margs, \u001b[39m*\u001b[39;49m\u001b[39m*\u001b[39;49mkwargs)\n",
      "\u001b[1;31mFileNotFoundError\u001b[0m: [Errno 2] No such file or directory: '/tmp/cats-and-dogs.zip'"
     ]
    }
   ],
   "source": [
    "import requests\n",
    "import os\n",
    "import zipfile\n",
    "\n",
    "# Download the file from the URL\n",
    "url = \"https://download.microsoft.com/download/3/E/1/3E1C3F21-ECDB-4869-8368-6DEBA77B919F/kagglecatsanddogs_3367a.zip\"\n",
    "response = requests.get(url)\n",
    "with open(\"/tmp/cats-and-dogs.zip\", \"wb\") as f:\n",
    "    f.write(response.content)\n",
    "\n",
    "# Extract the ZIP file\n",
    "local_zip = \"/tmp/cats-and-dogs.zip\"\n",
    "zip_ref = zipfile.ZipFile(local_zip, \"r\")\n",
    "zip_ref.extractall(\"/tmp\")\n",
    "zip_ref.close()\n"
   ]
  },
  {
   "cell_type": "code",
   "execution_count": 3,
   "metadata": {},
   "outputs": [],
   "source": [
    "import tensorflow as tf\n",
    "import numpy as np\n",
    "from tensorflow import keras"
   ]
  },
  {
   "cell_type": "code",
   "execution_count": 4,
   "metadata": {},
   "outputs": [],
   "source": [
    "model = tf.keras.Sequential([keras.layers.Dense(units=1, input_shape=[1])])"
   ]
  },
  {
   "cell_type": "code",
   "execution_count": 5,
   "metadata": {},
   "outputs": [],
   "source": [
    "model.compile(optimizer='sgd', loss='mean_squared_error')"
   ]
  },
  {
   "cell_type": "code",
   "execution_count": 6,
   "metadata": {},
   "outputs": [],
   "source": [
    "xs = np.array([-1.0, 0.0, 1.0, 2.0, 3.0, 4.0], dtype=float)\n",
    "ys = np.array([-2.0, 1.0, 4.0, 7.0, 10.0, 13.0], dtype=float)"
   ]
  },
  {
   "cell_type": "code",
   "execution_count": 7,
   "metadata": {},
   "outputs": [
    {
     "name": "stdout",
     "output_type": "stream",
     "text": [
      "Epoch 1/100\n",
      "1/1 [==============================] - 2s 2s/step - loss: 72.0495\n",
      "Epoch 2/100\n",
      "1/1 [==============================] - 0s 25ms/step - loss: 56.6861\n",
      "Epoch 3/100\n",
      "1/1 [==============================] - 0s 5ms/step - loss: 44.5989\n",
      "Epoch 4/100\n",
      "1/1 [==============================] - 0s 9ms/step - loss: 35.0892\n",
      "Epoch 5/100\n",
      "1/1 [==============================] - 0s 9ms/step - loss: 27.6074\n",
      "Epoch 6/100\n",
      "1/1 [==============================] - 0s 7ms/step - loss: 21.7211\n",
      "Epoch 7/100\n",
      "1/1 [==============================] - 0s 11ms/step - loss: 17.0901\n",
      "Epoch 8/100\n",
      "1/1 [==============================] - 0s 22ms/step - loss: 13.4465\n",
      "Epoch 9/100\n",
      "1/1 [==============================] - 0s 25ms/step - loss: 10.5800\n",
      "Epoch 10/100\n",
      "1/1 [==============================] - 0s 13ms/step - loss: 8.3247\n",
      "Epoch 11/100\n",
      "1/1 [==============================] - 0s 7ms/step - loss: 6.5503\n",
      "Epoch 12/100\n",
      "1/1 [==============================] - 0s 8ms/step - loss: 5.1543\n",
      "Epoch 13/100\n",
      "1/1 [==============================] - 0s 14ms/step - loss: 4.0559\n",
      "Epoch 14/100\n",
      "1/1 [==============================] - 0s 15ms/step - loss: 3.1918\n",
      "Epoch 15/100\n",
      "1/1 [==============================] - 0s 10ms/step - loss: 2.5119\n",
      "Epoch 16/100\n",
      "1/1 [==============================] - 0s 8ms/step - loss: 1.9770\n",
      "Epoch 17/100\n",
      "1/1 [==============================] - 0s 9ms/step - loss: 1.5562\n",
      "Epoch 18/100\n",
      "1/1 [==============================] - 0s 7ms/step - loss: 1.2251\n",
      "Epoch 19/100\n",
      "1/1 [==============================] - 0s 6ms/step - loss: 0.9645\n",
      "Epoch 20/100\n",
      "1/1 [==============================] - 0s 7ms/step - loss: 0.7595\n",
      "Epoch 21/100\n",
      "1/1 [==============================] - 0s 7ms/step - loss: 0.5983\n",
      "Epoch 22/100\n",
      "1/1 [==============================] - 0s 7ms/step - loss: 0.4713\n",
      "Epoch 23/100\n",
      "1/1 [==============================] - 0s 5ms/step - loss: 0.3715\n",
      "Epoch 24/100\n",
      "1/1 [==============================] - 0s 9ms/step - loss: 0.2929\n",
      "Epoch 25/100\n",
      "1/1 [==============================] - 0s 6ms/step - loss: 0.2311\n",
      "Epoch 26/100\n",
      "1/1 [==============================] - 0s 5ms/step - loss: 0.1824\n",
      "Epoch 27/100\n",
      "1/1 [==============================] - 0s 5ms/step - loss: 0.1441\n",
      "Epoch 28/100\n",
      "1/1 [==============================] - 0s 6ms/step - loss: 0.1140\n",
      "Epoch 29/100\n",
      "1/1 [==============================] - 0s 5ms/step - loss: 0.0903\n",
      "Epoch 30/100\n",
      "1/1 [==============================] - 0s 6ms/step - loss: 0.0716\n",
      "Epoch 31/100\n",
      "1/1 [==============================] - 0s 13ms/step - loss: 0.0569\n",
      "Epoch 32/100\n",
      "1/1 [==============================] - 0s 6ms/step - loss: 0.0453\n",
      "Epoch 33/100\n",
      "1/1 [==============================] - 0s 7ms/step - loss: 0.0362\n",
      "Epoch 34/100\n",
      "1/1 [==============================] - 0s 6ms/step - loss: 0.0290\n",
      "Epoch 35/100\n",
      "1/1 [==============================] - 0s 6ms/step - loss: 0.0233\n",
      "Epoch 36/100\n",
      "1/1 [==============================] - 0s 6ms/step - loss: 0.0188\n",
      "Epoch 37/100\n",
      "1/1 [==============================] - 0s 6ms/step - loss: 0.0153\n",
      "Epoch 38/100\n",
      "1/1 [==============================] - 0s 8ms/step - loss: 0.0125\n",
      "Epoch 39/100\n",
      "1/1 [==============================] - 0s 5ms/step - loss: 0.0103\n",
      "Epoch 40/100\n",
      "1/1 [==============================] - 0s 6ms/step - loss: 0.0086\n",
      "Epoch 41/100\n",
      "1/1 [==============================] - 0s 7ms/step - loss: 0.0072\n",
      "Epoch 42/100\n",
      "1/1 [==============================] - 0s 5ms/step - loss: 0.0061\n",
      "Epoch 43/100\n",
      "1/1 [==============================] - 0s 8ms/step - loss: 0.0052\n",
      "Epoch 44/100\n",
      "1/1 [==============================] - 0s 6ms/step - loss: 0.0045\n",
      "Epoch 45/100\n",
      "1/1 [==============================] - 0s 5ms/step - loss: 0.0040\n",
      "Epoch 46/100\n",
      "1/1 [==============================] - 0s 5ms/step - loss: 0.0035\n",
      "Epoch 47/100\n",
      "1/1 [==============================] - 0s 4ms/step - loss: 0.0032\n",
      "Epoch 48/100\n",
      "1/1 [==============================] - 0s 5ms/step - loss: 0.0029\n",
      "Epoch 49/100\n",
      "1/1 [==============================] - 0s 4ms/step - loss: 0.0027\n",
      "Epoch 50/100\n",
      "1/1 [==============================] - 0s 7ms/step - loss: 0.0025\n",
      "Epoch 51/100\n",
      "1/1 [==============================] - 0s 6ms/step - loss: 0.0023\n",
      "Epoch 52/100\n",
      "1/1 [==============================] - 0s 6ms/step - loss: 0.0022\n",
      "Epoch 53/100\n",
      "1/1 [==============================] - 0s 7ms/step - loss: 0.0021\n",
      "Epoch 54/100\n",
      "1/1 [==============================] - 0s 5ms/step - loss: 0.0020\n",
      "Epoch 55/100\n",
      "1/1 [==============================] - 0s 4ms/step - loss: 0.0019\n",
      "Epoch 56/100\n",
      "1/1 [==============================] - 0s 7ms/step - loss: 0.0018\n",
      "Epoch 57/100\n",
      "1/1 [==============================] - 0s 5ms/step - loss: 0.0018\n",
      "Epoch 58/100\n",
      "1/1 [==============================] - 0s 7ms/step - loss: 0.0017\n",
      "Epoch 59/100\n",
      "1/1 [==============================] - 0s 5ms/step - loss: 0.0016\n",
      "Epoch 60/100\n",
      "1/1 [==============================] - 0s 4ms/step - loss: 0.0016\n",
      "Epoch 61/100\n",
      "1/1 [==============================] - 0s 5ms/step - loss: 0.0016\n",
      "Epoch 62/100\n",
      "1/1 [==============================] - 0s 5ms/step - loss: 0.0015\n",
      "Epoch 63/100\n",
      "1/1 [==============================] - 0s 5ms/step - loss: 0.0015\n",
      "Epoch 64/100\n",
      "1/1 [==============================] - 0s 4ms/step - loss: 0.0014\n",
      "Epoch 65/100\n",
      "1/1 [==============================] - 0s 6ms/step - loss: 0.0014\n",
      "Epoch 66/100\n",
      "1/1 [==============================] - 0s 8ms/step - loss: 0.0014\n",
      "Epoch 67/100\n",
      "1/1 [==============================] - 0s 6ms/step - loss: 0.0013\n",
      "Epoch 68/100\n",
      "1/1 [==============================] - 0s 4ms/step - loss: 0.0013\n",
      "Epoch 69/100\n",
      "1/1 [==============================] - 0s 6ms/step - loss: 0.0013\n",
      "Epoch 70/100\n",
      "1/1 [==============================] - 0s 4ms/step - loss: 0.0013\n",
      "Epoch 71/100\n",
      "1/1 [==============================] - 0s 4ms/step - loss: 0.0012\n",
      "Epoch 72/100\n",
      "1/1 [==============================] - 0s 5ms/step - loss: 0.0012\n",
      "Epoch 73/100\n",
      "1/1 [==============================] - 0s 5ms/step - loss: 0.0012\n",
      "Epoch 74/100\n",
      "1/1 [==============================] - 0s 7ms/step - loss: 0.0012\n",
      "Epoch 75/100\n",
      "1/1 [==============================] - 0s 5ms/step - loss: 0.0011\n",
      "Epoch 76/100\n",
      "1/1 [==============================] - 0s 7ms/step - loss: 0.0011\n",
      "Epoch 77/100\n",
      "1/1 [==============================] - 0s 4ms/step - loss: 0.0011\n",
      "Epoch 78/100\n",
      "1/1 [==============================] - 0s 5ms/step - loss: 0.0011\n",
      "Epoch 79/100\n",
      "1/1 [==============================] - 0s 6ms/step - loss: 0.0010\n",
      "Epoch 80/100\n",
      "1/1 [==============================] - 0s 6ms/step - loss: 0.0010\n",
      "Epoch 81/100\n",
      "1/1 [==============================] - 0s 7ms/step - loss: 0.0010\n",
      "Epoch 82/100\n",
      "1/1 [==============================] - 0s 6ms/step - loss: 9.8045e-04\n",
      "Epoch 83/100\n",
      "1/1 [==============================] - 0s 6ms/step - loss: 9.6026e-04\n",
      "Epoch 84/100\n",
      "1/1 [==============================] - 0s 4ms/step - loss: 9.4049e-04\n",
      "Epoch 85/100\n",
      "1/1 [==============================] - 0s 6ms/step - loss: 9.2115e-04\n",
      "Epoch 86/100\n",
      "1/1 [==============================] - 0s 5ms/step - loss: 9.0220e-04\n",
      "Epoch 87/100\n",
      "1/1 [==============================] - 0s 6ms/step - loss: 8.8365e-04\n",
      "Epoch 88/100\n",
      "1/1 [==============================] - 0s 5ms/step - loss: 8.6548e-04\n",
      "Epoch 89/100\n",
      "1/1 [==============================] - 0s 5ms/step - loss: 8.4769e-04\n",
      "Epoch 90/100\n",
      "1/1 [==============================] - 0s 5ms/step - loss: 8.3027e-04\n",
      "Epoch 91/100\n",
      "1/1 [==============================] - 0s 6ms/step - loss: 8.1321e-04\n",
      "Epoch 92/100\n",
      "1/1 [==============================] - 0s 6ms/step - loss: 7.9650e-04\n",
      "Epoch 93/100\n",
      "1/1 [==============================] - 0s 4ms/step - loss: 7.8013e-04\n",
      "Epoch 94/100\n",
      "1/1 [==============================] - 0s 6ms/step - loss: 7.6411e-04\n",
      "Epoch 95/100\n",
      "1/1 [==============================] - 0s 5ms/step - loss: 7.4841e-04\n",
      "Epoch 96/100\n",
      "1/1 [==============================] - 0s 9ms/step - loss: 7.3303e-04\n",
      "Epoch 97/100\n",
      "1/1 [==============================] - 0s 5ms/step - loss: 7.1797e-04\n",
      "Epoch 98/100\n",
      "1/1 [==============================] - 0s 6ms/step - loss: 7.0323e-04\n",
      "Epoch 99/100\n",
      "1/1 [==============================] - 0s 6ms/step - loss: 6.8878e-04\n",
      "Epoch 100/100\n",
      "1/1 [==============================] - 0s 4ms/step - loss: 6.7463e-04\n"
     ]
    },
    {
     "data": {
      "text/plain": [
       "<keras.callbacks.History at 0x1a18e47c4f0>"
      ]
     },
     "execution_count": 7,
     "metadata": {},
     "output_type": "execute_result"
    }
   ],
   "source": [
    "model.fit(xs, ys, epochs=100)"
   ]
  },
  {
   "cell_type": "code",
   "execution_count": 8,
   "metadata": {},
   "outputs": [
    {
     "name": "stdout",
     "output_type": "stream",
     "text": [
      "1/1 [==============================] - 1s 934ms/step\n",
      "[[15.979025]]\n"
     ]
    }
   ],
   "source": [
    "print(model.predict([05.0]))"
   ]
  },
  {
   "cell_type": "code",
   "execution_count": 8,
   "metadata": {},
   "outputs": [
    {
     "name": "stdout",
     "output_type": "stream",
     "text": [
      "2.12.0-rc0\n"
     ]
    }
   ],
   "source": [
    "import tensorflow as tf\n",
    "print(tf.__version__)"
   ]
  },
  {
   "cell_type": "code",
   "execution_count": 9,
   "metadata": {},
   "outputs": [],
   "source": [
    "mnist = tf.keras.datasets.fashion_mnist"
   ]
  },
  {
   "cell_type": "code",
   "execution_count": 10,
   "metadata": {},
   "outputs": [],
   "source": [
    "(training_images, training_labels), (test_images, test_labels) = mnist.load_data()"
   ]
  },
  {
   "cell_type": "code",
   "execution_count": 11,
   "metadata": {},
   "outputs": [
    {
     "name": "stdout",
     "output_type": "stream",
     "text": [
      "9\n",
      "[[  0   0   0   0   0   0   0   0   0   0   0   0   0   0   0   0   0   0\n",
      "    0   0   0   0   0   0   0   0   0   0]\n",
      " [  0   0   0   0   0   0   0   0   0   0   0   0   0   0   0   0   0   0\n",
      "    0   0   0   0   0   0   0   0   0   0]\n",
      " [  0   0   0   0   0   0   0   0   0   0   0   0   0   0   0   0   0   0\n",
      "    0   0   0   0   0   0   0   0   0   0]\n",
      " [  0   0   0   0   0   0   0   0   0   0   0   0   1   0   0  13  73   0\n",
      "    0   1   4   0   0   0   0   1   1   0]\n",
      " [  0   0   0   0   0   0   0   0   0   0   0   0   3   0  36 136 127  62\n",
      "   54   0   0   0   1   3   4   0   0   3]\n",
      " [  0   0   0   0   0   0   0   0   0   0   0   0   6   0 102 204 176 134\n",
      "  144 123  23   0   0   0   0  12  10   0]\n",
      " [  0   0   0   0   0   0   0   0   0   0   0   0   0   0 155 236 207 178\n",
      "  107 156 161 109  64  23  77 130  72  15]\n",
      " [  0   0   0   0   0   0   0   0   0   0   0   1   0  69 207 223 218 216\n",
      "  216 163 127 121 122 146 141  88 172  66]\n",
      " [  0   0   0   0   0   0   0   0   0   1   1   1   0 200 232 232 233 229\n",
      "  223 223 215 213 164 127 123 196 229   0]\n",
      " [  0   0   0   0   0   0   0   0   0   0   0   0   0 183 225 216 223 228\n",
      "  235 227 224 222 224 221 223 245 173   0]\n",
      " [  0   0   0   0   0   0   0   0   0   0   0   0   0 193 228 218 213 198\n",
      "  180 212 210 211 213 223 220 243 202   0]\n",
      " [  0   0   0   0   0   0   0   0   0   1   3   0  12 219 220 212 218 192\n",
      "  169 227 208 218 224 212 226 197 209  52]\n",
      " [  0   0   0   0   0   0   0   0   0   0   6   0  99 244 222 220 218 203\n",
      "  198 221 215 213 222 220 245 119 167  56]\n",
      " [  0   0   0   0   0   0   0   0   0   4   0   0  55 236 228 230 228 240\n",
      "  232 213 218 223 234 217 217 209  92   0]\n",
      " [  0   0   1   4   6   7   2   0   0   0   0   0 237 226 217 223 222 219\n",
      "  222 221 216 223 229 215 218 255  77   0]\n",
      " [  0   3   0   0   0   0   0   0   0  62 145 204 228 207 213 221 218 208\n",
      "  211 218 224 223 219 215 224 244 159   0]\n",
      " [  0   0   0   0  18  44  82 107 189 228 220 222 217 226 200 205 211 230\n",
      "  224 234 176 188 250 248 233 238 215   0]\n",
      " [  0  57 187 208 224 221 224 208 204 214 208 209 200 159 245 193 206 223\n",
      "  255 255 221 234 221 211 220 232 246   0]\n",
      " [  3 202 228 224 221 211 211 214 205 205 205 220 240  80 150 255 229 221\n",
      "  188 154 191 210 204 209 222 228 225   0]\n",
      " [ 98 233 198 210 222 229 229 234 249 220 194 215 217 241  65  73 106 117\n",
      "  168 219 221 215 217 223 223 224 229  29]\n",
      " [ 75 204 212 204 193 205 211 225 216 185 197 206 198 213 240 195 227 245\n",
      "  239 223 218 212 209 222 220 221 230  67]\n",
      " [ 48 203 183 194 213 197 185 190 194 192 202 214 219 221 220 236 225 216\n",
      "  199 206 186 181 177 172 181 205 206 115]\n",
      " [  0 122 219 193 179 171 183 196 204 210 213 207 211 210 200 196 194 191\n",
      "  195 191 198 192 176 156 167 177 210  92]\n",
      " [  0   0  74 189 212 191 175 172 175 181 185 188 189 188 193 198 204 209\n",
      "  210 210 211 188 188 194 192 216 170   0]\n",
      " [  2   0   0   0  66 200 222 237 239 242 246 243 244 221 220 193 191 179\n",
      "  182 182 181 176 166 168  99  58   0   0]\n",
      " [  0   0   0   0   0   0   0  40  61  44  72  41  35   0   0   0   0   0\n",
      "    0   0   0   0   0   0   0   0   0   0]\n",
      " [  0   0   0   0   0   0   0   0   0   0   0   0   0   0   0   0   0   0\n",
      "    0   0   0   0   0   0   0   0   0   0]\n",
      " [  0   0   0   0   0   0   0   0   0   0   0   0   0   0   0   0   0   0\n",
      "    0   0   0   0   0   0   0   0   0   0]]\n"
     ]
    },
    {
     "data": {
      "image/png": "[encoded data removed]",
      "text/plain": [
       "<Figure size 640x480 with 1 Axes>"
      ]
     },
     "metadata": {},
     "output_type": "display_data"
    }
   ],
   "source": [
    "import matplotlib.pyplot as plt\n",
    "plt.imshow(training_images[0])\n",
    "print(training_labels[0])\n",
    "print(training_images[0])"
   ]
  },
  {
   "cell_type": "code",
   "execution_count": 12,
   "metadata": {},
   "outputs": [],
   "source": [
    "training_images  = training_images / 255.0\n",
    "test_images = test_images / 255.0"
   ]
  },
  {
   "cell_type": "code",
   "execution_count": 13,
   "metadata": {},
   "outputs": [],
   "source": [
    "model = tf.keras.models.Sequential([tf.keras.layers.Flatten(), \n",
    "                                    tf.keras.layers.Dense(128, activation=tf.nn.relu), \n",
    "                                    tf.keras.layers.Dense(10, activation=tf.nn.softmax)])"
   ]
  },
  {
   "cell_type": "code",
   "execution_count": 14,
   "metadata": {},
   "outputs": [
    {
     "name": "stdout",
     "output_type": "stream",
     "text": [
      "Epoch 1/5\n",
      "1875/1875 [==============================] - 9s 4ms/step - loss: 0.4930 - accuracy: 0.8265\n",
      "Epoch 2/5\n",
      "1875/1875 [==============================] - 11s 6ms/step - loss: 0.3705 - accuracy: 0.8663\n",
      "Epoch 3/5\n",
      "1875/1875 [==============================] - 7s 4ms/step - loss: 0.3335 - accuracy: 0.8790\n",
      "Epoch 4/5\n",
      "1875/1875 [==============================] - 8s 4ms/step - loss: 0.3100 - accuracy: 0.8859\n",
      "Epoch 5/5\n",
      "1875/1875 [==============================] - 8s 4ms/step - loss: 0.2925 - accuracy: 0.8918\n"
     ]
    },
    {
     "data": {
      "text/plain": [
       "<keras.callbacks.History at 0x1de72a87450>"
      ]
     },
     "execution_count": 14,
     "metadata": {},
     "output_type": "execute_result"
    }
   ],
   "source": [
    "model.compile(optimizer = tf.keras.optimizers.Adam(),\n",
    "              loss = 'sparse_categorical_crossentropy',\n",
    "              metrics=['accuracy'])\n",
    "\n",
    "model.fit(training_images, training_labels, epochs=5)"
   ]
  },
  {
   "cell_type": "code",
   "execution_count": 15,
   "metadata": {},
   "outputs": [
    {
     "name": "stdout",
     "output_type": "stream",
     "text": [
      "313/313 [==============================] - 2s 3ms/step - loss: 0.3496 - accuracy: 0.8740\n"
     ]
    },
    {
     "data": {
      "text/plain": [
       "[0.34956419467926025, 0.8740000128746033]"
      ]
     },
     "execution_count": 15,
     "metadata": {},
     "output_type": "execute_result"
    }
   ],
   "source": [
    "model.evaluate(test_images, test_labels)"
   ]
  },
  {
   "cell_type": "code",
   "execution_count": 16,
   "metadata": {},
   "outputs": [
    {
     "name": "stdout",
     "output_type": "stream",
     "text": [
      "Epoch 1/5\n",
      "1875/1875 [==============================] - 38s 19ms/step - loss: 0.4699 - accuracy: 0.8320\n",
      "Epoch 2/5\n",
      "1875/1875 [==============================] - 44s 23ms/step - loss: 0.3588 - accuracy: 0.8693\n",
      "Epoch 3/5\n",
      "1875/1875 [==============================] - 39s 21ms/step - loss: 0.3214 - accuracy: 0.8821\n",
      "Epoch 4/5\n",
      "1875/1875 [==============================] - 38s 20ms/step - loss: 0.2987 - accuracy: 0.8893\n",
      "Epoch 5/5\n",
      "1875/1875 [==============================] - 39s 21ms/step - loss: 0.2800 - accuracy: 0.8964\n"
     ]
    },
    {
     "data": {
      "text/plain": [
       "<keras.callbacks.History at 0x1de72a88e50>"
      ]
     },
     "execution_count": 16,
     "metadata": {},
     "output_type": "execute_result"
    }
   ],
   "source": [
    "import tensorflow as tf\n",
    "\n",
    "class myCallback(tf.keras.callbacks.Callback):\n",
    "  def on_epoch_end(self, epoch, logs={}):\n",
    "    if(logs.get('accuracy')>0.95):\n",
    "      print(\"\\nReached 95% accuracy so cancelling training!\")\n",
    "      self.model.stop_training = True\n",
    "\n",
    "callbacks = myCallback()\n",
    "mnist = tf.keras.datasets.fashion_mnist\n",
    "(training_images, training_labels), (test_images, test_labels) = mnist.load_data()\n",
    "training_images=training_images/255.0\n",
    "test_images=test_images/255.0\n",
    "model = tf.keras.models.Sequential([\n",
    "  tf.keras.layers.Flatten(),\n",
    "  tf.keras.layers.Dense(512, activation=tf.nn.relu),\n",
    "  tf.keras.layers.Dense(10, activation=tf.nn.softmax)\n",
    "])\n",
    "model.compile(optimizer='adam', loss='sparse_categorical_crossentropy', metrics=['accuracy'])\n",
    "model.fit(training_images, training_labels, epochs=5, callbacks=[callbacks])"
   ]
  },
  {
   "cell_type": "code",
   "execution_count": 17,
   "metadata": {},
   "outputs": [],
   "source": [
    "import os\n",
    "import zipfile\n",
    "import random\n",
    "import tensorflow as tf\n",
    "from tensorflow.keras.optimizers import RMSprop\n",
    "from tensorflow.keras.preprocessing.image import ImageDataGenerator\n",
    "from shutil import copyfile"
   ]
  },
  {
   "cell_type": "code",
   "execution_count": null,
   "metadata": {},
   "outputs": [],
   "source": [
    "import os\n",
    "import shutil\n",
    "import random\n",
    "\n",
    "# Set the path to your dataset directory\n",
    "dataset_path = r'C:\\Users\\DELL 7270\\Desktop\\model pract\\kagglecatsanddogs_5340\\PetImages'\n",
    "\n",
    "# Set the paths to the training and testing directories\n",
    "training_path = r'C:\\Users\\DELL 7270\\Desktop\\model pract\\kagglecatsanddogs_5340\\training'\n",
    "testing_path = r'C:\\Users\\DELL 7270\\Desktop\\model pract\\kagglecatsanddogs_5340\\testing'\n",
    "\n",
    "# Set the training/testing split ratio\n",
    "split_ratio = 0.8\n",
    "\n",
    "# Loop through the cat and dog subdirectories\n",
    "for animal_type in os.listdir(dataset_path):\n",
    "    animal_path = os.path.join(dataset_path, animal_type)\n",
    "    if os.path.isdir(animal_path):\n",
    "        # Create the subdirectories in the training and testing directories\n",
    "        os.makedirs(os.path.join(training_path, animal_type), exist_ok=True)\n",
    "        os.makedirs(os.path.join(testing_path, animal_type), exist_ok=True)\n",
    "        \n",
    "        # Get the list of image files\n",
    "        image_files = os.listdir(animal_path)\n",
    "        # Shuffle the list of image files\n",
    "        random.shuffle(image_files)\n",
    "        # Calculate the split point\n",
    "        split_point = int(len(image_files) * split_ratio)\n",
    "        \n",
    "        # Copy the training images\n",
    "        for image_file in image_files[:split_point]:\n",
    "            source_path = os.path.join(animal_path, image_file)\n",
    "            destination_path = os.path.join(training_path, animal_type, image_file)\n",
    "            shutil.copyfile(source_path, destination_path)\n",
    "            \n",
    "        # Copy the testing images\n",
    "        for image_file in image_files[split_point:]:\n",
    "            source_path = os.path.join(animal_path, image_file)\n",
    "            destination_path = os.path.join(testing_path, animal_type, image_file)\n",
    "            shutil.copyfile(source_path, destination_path)\n"
   ]
  },
  {
   "cell_type": "code",
   "execution_count": 3,
   "metadata": {},
   "outputs": [],
   "source": [
    "import keras_ocr\n",
    "import matplotlib.pyplot as plt"
   ]
  },
  {
   "cell_type": "code",
   "execution_count": 4,
   "metadata": {},
   "outputs": [
    {
     "name": "stdout",
     "output_type": "stream",
     "text": [
      "Looking for C:\\Users\\humpa\\.keras-ocr\\craft_mlt_25k.h5\n",
      "Looking for C:\\Users\\humpa\\.keras-ocr\\crnn_kurapan.h5\n"
     ]
    }
   ],
   "source": [
    "pipeline = keras_ocr.pipeline.Pipeline()"
   ]
  },
  {
   "cell_type": "code",
   "execution_count": 6,
   "metadata": {},
   "outputs": [],
   "source": [
    "images = [\n",
    "   keras_ocr.tools.read(img) for img in ['C:/Users/humpa/Downloads/CF01048108H8WK-IdFront.jpg'\n",
    "                                       ] \n",
    "\n",
    "]\n"
   ]
  },
  {
   "cell_type": "code",
   "execution_count": 10,
   "metadata": {},
   "outputs": [
    {
     "name": "stdout",
     "output_type": "stream",
     "text": [
      "1/1 [==============================] - 22s 22s/step\n",
      "2/2 [==============================] - 4s 180ms/step\n"
     ]
    }
   ],
   "source": [
    "# generate text predictions from the images\n",
    "prediction_groups = pipeline.recognize(images)"
   ]
  },
  {
   "cell_type": "code",
   "execution_count": 9,
   "metadata": {},
   "outputs": [
    {
     "ename": "IndexError",
     "evalue": "list index out of range",
     "output_type": "error",
     "traceback": [
      "\u001b[1;31m---------------------------------------------------------------------------\u001b[0m",
      "\u001b[1;31mIndexError\u001b[0m                                Traceback (most recent call last)",
      "Cell \u001b[1;32mIn[9], line 1\u001b[0m\n\u001b[1;32m----> 1\u001b[0m predicted_image \u001b[39m=\u001b[39m prediction_groups[\u001b[39m1\u001b[39;49m]\n\u001b[0;32m      2\u001b[0m \u001b[39mfor\u001b[39;00m text, box \u001b[39min\u001b[39;00m predicted_image:\n\u001b[0;32m      3\u001b[0m     \u001b[39mprint\u001b[39m(text)\n",
      "\u001b[1;31mIndexError\u001b[0m: list index out of range"
     ]
    }
   ],
   "source": [
    "predicted_image = prediction_groups[1]\n",
    "for text, box in predicted_image:\n",
    "    print(text)"
   ]
  }
 ],
 "metadata": {
  "kernelspec": {
   "display_name": "Python 3 (ipykernel)",
   "language": "python",
   "name": "python3"
  },
  "language_info": {
   "codemirror_mode": {
    "name": "ipython",
    "version": 3
   },
   "file_extension": ".py",
   "mimetype": "text/x-python",
   "name": "python",
   "nbconvert_exporter": "python",
   "pygments_lexer": "ipython3",
   "version": "3.10.10"
  }
 },
 "nbformat": 4,
 "nbformat_minor": 2
}
